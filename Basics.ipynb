{
 "cells": [
  {
   "cell_type": "code",
   "execution_count": 2,
   "metadata": {
    "collapsed": false
   },
   "outputs": [
    {
     "name": "stdout",
     "output_type": "stream",
     "text": [
      "['', 'year', 'month', 'intent', 'police', 'sex', 'age', 'race', 'hispanic', 'place', 'education']\n",
      "[['1', '2012', '01', 'Suicide', '0', 'M', '34', 'Asian/Pacific Islander', '100', 'Home', '4'], ['2', '2012', '01', 'Suicide', '0', 'F', '21', 'White', '100', 'Street', '3'], ['3', '2012', '01', 'Suicide', '0', 'M', '60', 'White', '100', 'Other specified', '4'], ['4', '2012', '02', 'Suicide', '0', 'M', '64', 'White', '100', 'Home', '4'], ['5', '2012', '02', 'Suicide', '0', 'M', '31', 'White', '100', 'Other specified', '2']]\n"
     ]
    }
   ],
   "source": [
    "import csv\n",
    "import datetime\n",
    "\n",
    "f = open(\"guns.csv\", \"r\")\n",
    "data = list(csv.reader(f))\n",
    "\n",
    "headers = data[0]\n",
    "data = data[1:]\n",
    "\n",
    "print(headers)\n",
    "print(data[:5])"
   ]
  },
  {
   "cell_type": "markdown",
   "metadata": {},
   "source": [
    "We're now going to organize the data into dictionaries based on year, year & month, sex, and race. This will hopefully let us see patterns amoung the data."
   ]
  },
  {
   "cell_type": "code",
   "execution_count": 3,
   "metadata": {
    "collapsed": false
   },
   "outputs": [],
   "source": [
    "year_counts = {}\n",
    "\n",
    "years = [row[1] for row in data]\n",
    "for year in years:\n",
    "    if year in year_counts:\n",
    "        year_counts[year] +=1\n",
    "    else:\n",
    "        year_counts[year] = 1"
   ]
  },
  {
   "cell_type": "code",
   "execution_count": 4,
   "metadata": {
    "collapsed": false
   },
   "outputs": [],
   "source": [
    "dates = [datetime.datetime(year = int(row[1]), month = int(row[2]), day = 1) \n",
    "         for row in data]"
   ]
  },
  {
   "cell_type": "code",
   "execution_count": 5,
   "metadata": {
    "collapsed": false
   },
   "outputs": [],
   "source": [
    "date_counts = {}\n",
    "\n",
    "for date in dates:\n",
    "    if date in date_counts:\n",
    "        date_counts[date] +=1\n",
    "    else:\n",
    "        date_counts[date] = 1"
   ]
  },
  {
   "cell_type": "code",
   "execution_count": 6,
   "metadata": {
    "collapsed": false
   },
   "outputs": [
    {
     "data": {
      "text/plain": [
       "{'Asian/Pacific Islander': 1326,\n",
       " 'Black': 23296,\n",
       " 'Hispanic': 9022,\n",
       " 'Native American/Native Alaskan': 917,\n",
       " 'White': 66237}"
      ]
     },
     "execution_count": 6,
     "metadata": {},
     "output_type": "execute_result"
    }
   ],
   "source": [
    "sex = [row[5] for row in data]\n",
    "race = [row[7] for row in data]\n",
    "police = [row[4] for row in data]\n",
    "\n",
    "sex_counts = {}\n",
    "race_counts = {}\n",
    "police_counts = {}\n",
    "\n",
    "for row in sex:\n",
    "    if row in sex_counts:\n",
    "        sex_counts[row] += 1\n",
    "    else:\n",
    "        sex_counts[row] = 1\n",
    "for row in race:\n",
    "    if row in race_counts:\n",
    "        race_counts[row] += 1\n",
    "    else:\n",
    "        race_counts[row] = 1\n",
    "for pol in police:\n",
    "    if pol in police_counts:\n",
    "        police_counts[pol] += 1\n",
    "    else:\n",
    "        police_counts[pol] = 1\n",
    "        \n",
    "race_counts"
   ]
  },
  {
   "cell_type": "markdown",
   "metadata": {},
   "source": [
    "It is significant to note that men have almost a 5x increase in gun related deaths than women. It's also noteworthy, that gun deaths related to police interaction is almost 1/10 of all gun deaths. Contrary to media prevelance, there are many more gun deaths that do not involve police interaction. \n",
    "\n",
    "While the racial breakdown is interesting, it doesn't mean anything without a corresponding breakdown of the proportion of each race in the US. We will draw data from the census data to get more perspective on the percentages of gun deaths by race."
   ]
  },
  {
   "cell_type": "code",
   "execution_count": 7,
   "metadata": {
    "collapsed": false
   },
   "outputs": [],
   "source": [
    "f = open(\"census.csv\", \"r\")\n",
    "census = list(csv.reader(f))"
   ]
  },
  {
   "cell_type": "code",
   "execution_count": 8,
   "metadata": {
    "collapsed": false
   },
   "outputs": [],
   "source": [
    "mapping = {}\n",
    "\n",
    "mapping['White'] = int(census[1][11])\n",
    "mapping['Black'] = int(census[1][13])\n",
    "mapping['Asian/Pacific Islander'] = int(census[1][15] + census[1][16])\n",
    "mapping['Native American/Native Alaskan'] = int(census[1][14])\n",
    "mapping['Hispanic'] = int(census[1][12])"
   ]
  },
  {
   "cell_type": "code",
   "execution_count": 9,
   "metadata": {
    "collapsed": false
   },
   "outputs": [
    {
     "data": {
      "text/plain": [
       "{'Asian/Pacific Islander': 1.9655343742560163e-05,\n",
       " 'Black': 622.9699858751396,\n",
       " 'Hispanic': 22.41455321139654,\n",
       " 'Native American/Native Alaskan': 6.049005786200562,\n",
       " 'White': 148.45318957405297}"
      ]
     },
     "execution_count": 9,
     "metadata": {},
     "output_type": "execute_result"
    }
   ],
   "source": [
    "race_per_hundredk = {}\n",
    "for key in race_counts:\n",
    "    race_per_hundredk[key] = (race_counts[key]/mapping[key])*100000\n",
    "race_per_hundredk"
   ]
  },
  {
   "cell_type": "markdown",
   "metadata": {},
   "source": [
    "This result is more informed. We can see that black people has a much higher chance of a gun related death. White people are about 1/3 as likely, and from there it's very unlikley for any other race. Asians have almost no chance to be related in a gun death. "
   ]
  },
  {
   "cell_type": "code",
   "execution_count": 10,
   "metadata": {
    "collapsed": false
   },
   "outputs": [
    {
     "data": {
      "text/plain": [
       "{'Asian/Pacific Islander': 8.286076283628304e-06,\n",
       " 'Black': 521.7266665703972,\n",
       " 'Hispanic': 13.997294701064964,\n",
       " 'Native American/Native Alaskan': 2.1504644343526533,\n",
       " 'White': 20.50064654247418}"
      ]
     },
     "execution_count": 10,
     "metadata": {},
     "output_type": "execute_result"
    }
   ],
   "source": [
    "intents = [row[3] for row in data]\n",
    "\n",
    "homicide_race_counts = {}\n",
    "for i, r in enumerate(race):\n",
    "    if intents[i] == \"Homicide\":\n",
    "        if r in homicide_race_counts:\n",
    "            homicide_race_counts[r] +=1\n",
    "        else:\n",
    "            homicide_race_counts[r] = 1\n",
    "\n",
    "homicide_race_per_hundredk = {}\n",
    "for key in mapping:\n",
    "    homicide_race_per_hundredk[key] = (homicide_race_counts[key]/mapping[key])*100000\n",
    "\n",
    "homicide_race_per_hundredk"
   ]
  },
  {
   "cell_type": "markdown",
   "metadata": {},
   "source": [
    "Homicides account for almost 84% of black gun deaths. That is incredible and sad. \n",
    "\n",
    "Let's look into suicide rates per year and per month and by gender and race."
   ]
  },
  {
   "cell_type": "code",
   "execution_count": 11,
   "metadata": {
    "collapsed": false
   },
   "outputs": [],
   "source": [
    "suicide_race_counts = {}\n",
    "\n",
    "def suicidebyrace(dictionary, lst):\n",
    "    for i, row in enumerate(lst):\n",
    "        if intents[i] == \"Suicide\":\n",
    "            if row in dictionary:\n",
    "                dictionary[row] += 1\n",
    "            else:\n",
    "                dictionary[row] =1\n",
    "    return dictionary\n",
    "  \n",
    "\n",
    "suicide_by_race_dict = suicidebyrace(suicide_race_counts, race) \n",
    "\n",
    "suicide_per_100k = {}\n",
    "for key in mapping:\n",
    "    suicide_per_100k[key] = (suicide_by_race_dict[key]/mapping[key])*100000\n"
   ]
  },
  {
   "cell_type": "code",
   "execution_count": 12,
   "metadata": {
    "collapsed": false
   },
   "outputs": [
    {
     "data": {
      "text/plain": [
       "{'Asian/Pacific Islander': 1.1043160700005522e-05,\n",
       " 'Black': 89.10267826819906,\n",
       " 'Hispanic': 7.8781365809508355,\n",
       " 'Native American/Native Alaskan': 3.6610667517353455,\n",
       " 'White': 124.10208815457312}"
      ]
     },
     "execution_count": 12,
     "metadata": {},
     "output_type": "execute_result"
    }
   ],
   "source": [
    "suicide_per_100k"
   ]
  },
  {
   "cell_type": "markdown",
   "metadata": {
    "collapsed": true
   },
   "source": [
    "Here we can see that white people have the highest rate of suicide by gun. Followed by black people. The other races are incredibly low and for Asians it's almost non-existant.\n",
    "\n",
    "Let's look at if time of year effects homicides or suicides."
   ]
  },
  {
   "cell_type": "code",
   "execution_count": 13,
   "metadata": {
    "collapsed": false
   },
   "outputs": [
    {
     "data": {
      "text/plain": [
       "({1: 2829,\n",
       "  2: 2178,\n",
       "  3: 2780,\n",
       "  4: 2845,\n",
       "  5: 2976,\n",
       "  6: 3130,\n",
       "  7: 3269,\n",
       "  8: 3125,\n",
       "  9: 2966,\n",
       "  10: 2968,\n",
       "  11: 2919,\n",
       "  12: 3191},\n",
       " {1: 5220,\n",
       "  2: 4732,\n",
       "  3: 5309,\n",
       "  4: 5438,\n",
       "  5: 5506,\n",
       "  6: 5367,\n",
       "  7: 5514,\n",
       "  8: 5421,\n",
       "  9: 5343,\n",
       "  10: 5256,\n",
       "  11: 5086,\n",
       "  12: 4983})"
      ]
     },
     "execution_count": 13,
     "metadata": {},
     "output_type": "execute_result"
    }
   ],
   "source": [
    "#We already have intents and dates as lists from above\n",
    "homicide_month_count = {}\n",
    "suicide_month_count = {}\n",
    "\n",
    "#just for brevity, I'll make a function that takes a keyword, and dict, and\n",
    "#increment one if the keyword is found, or add a key if it's not\n",
    "def AddDict(key, dct):\n",
    "    if key in dct:\n",
    "        dct[key] += 1\n",
    "    else:\n",
    "        dct[key] = 1\n",
    "\n",
    "for i, date in enumerate(dates):\n",
    "    if intents[i] == \"Homicide\":\n",
    "        AddDict(date.month, homicide_month_count)\n",
    "for i, date in enumerate(dates):\n",
    "    if intents[i] == \"Suicide\":\n",
    "        AddDict(date.month, suicide_month_count)\n",
    "        \n",
    "homicide_month_count, suicide_month_count"
   ]
  },
  {
   "cell_type": "markdown",
   "metadata": {},
   "source": [
    "Here we can see that suicides account for more deaths than homicides. Also, homicides look to peak in the summer months and december. Perhaps due to ease of being outside or holiday stress. They are at an incredible low in February. Suicides are also at a low in February and December, which I did not expect. Other than those months, it's faily constant around 5400. \n",
    "\n",
    "Lastly, let's look at education breakdowns."
   ]
  },
  {
   "cell_type": "code",
   "execution_count": 16,
   "metadata": {
    "collapsed": false
   },
   "outputs": [
    {
     "data": {
      "text/plain": [
       "{'Graduated College (at least)': 12946,\n",
       " 'Graduated High School': 42927,\n",
       " 'Less than High School': 21823,\n",
       " 'Not Available': 1369,\n",
       " 'Some College': 21680}"
      ]
     },
     "execution_count": 16,
     "metadata": {},
     "output_type": "execute_result"
    }
   ],
   "source": [
    "education = [row[10] for row in data]\n",
    "\n",
    "#Let's decode the number-meaning pairs to make the data eaiser to see    \n",
    "decode = [\"Less than High School\", \"Graduated High School\", \"Some College\", \n",
    "         \"Graduated College (at least)\", \"Not Available\", \"NA\"]\n",
    "newlist = []\n",
    "\n",
    "#There are so\n",
    "for row in education:\n",
    "    try:\n",
    "        newlist.append(decode[int(row)-1])\n",
    "    except Exception:\n",
    "        pass\n",
    "    \n",
    "education_counts = {}\n",
    "\n",
    "for row in newlist:\n",
    "    AddDict(row, education_counts)\n",
    "\n",
    "\n",
    "education_counts"
   ]
  },
  {
   "cell_type": "markdown",
   "metadata": {},
   "source": [
    "While the graduated from college decrease was expected, it's interesting that there is a decided peak for deaths in the \"Graduated from High School\" category. The death rate doubles after graduation high school, then halves after each subsequent milestone."
   ]
  }
 ],
 "metadata": {
  "kernelspec": {
   "display_name": "Python 3",
   "language": "python",
   "name": "python3"
  },
  "language_info": {
   "codemirror_mode": {
    "name": "ipython",
    "version": 3
   },
   "file_extension": ".py",
   "mimetype": "text/x-python",
   "name": "python",
   "nbconvert_exporter": "python",
   "pygments_lexer": "ipython3",
   "version": "3.4.3"
  }
 },
 "nbformat": 4,
 "nbformat_minor": 0
}
